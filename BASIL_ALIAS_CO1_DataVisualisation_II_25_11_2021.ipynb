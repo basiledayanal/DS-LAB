{
  "nbformat": 4,
  "nbformat_minor": 0,
  "metadata": {
    "colab": {
      "name": "BASIL ALIAS CO1-DataVisualisation-II-25-11-2021",
      "provenance": [],
      "collapsed_sections": [],
      "include_colab_link": true
    },
    "kernelspec": {
      "name": "python3",
      "display_name": "Python 3"
    }
  },
  "cells": [
    {
      "cell_type": "markdown",
      "metadata": {
        "id": "view-in-github",
        "colab_type": "text"
      },
      "source": [
        "<a href=\"https://colab.research.google.com/github/basiledayanal/DS-LAB/blob/main/BASIL_ALIAS_CO1_DataVisualisation_II_25_11_2021.ipynb\" target=\"_parent\"><img src=\"https://colab.research.google.com/assets/colab-badge.svg\" alt=\"Open In Colab\"/></a>"
      ]
    },
    {
      "cell_type": "markdown",
      "metadata": {
        "id": "zVCE_Pjc2nFj"
      },
      "source": [
        "### **Data Visualisation**"
      ]
    },
    {
      "cell_type": "code",
      "metadata": {
        "colab": {
          "base_uri": "https://localhost:8080/"
        },
        "id": "Dwyfl79ecp92",
        "outputId": "ba1422cd-dc4a-44fe-c3e2-10319b8298d1"
      },
      "source": [
        "from google.colab import drive\n",
        "drive.mount('/content/drive')"
      ],
      "execution_count": null,
      "outputs": [
        {
          "output_type": "stream",
          "name": "stdout",
          "text": [
            "Drive already mounted at /content/drive; to attempt to forcibly remount, call drive.mount(\"/content/drive\", force_remount=True).\n"
          ]
        }
      ]
    },
    {
      "cell_type": "markdown",
      "metadata": {
        "id": "O1Md2QaOm5mD"
      },
      "source": [
        "### Instructions\n",
        "\n",
        "Do the following tasks:\n",
        "\n",
        "1. Create a DataFrame for a **sample_csv_file.csv** file which is available in your github repository: \n",
        "If it is not uploaded in your github repository you can use the following link. \n",
        "**https://raw.githubusercontent.com/jiss-sngce/CO1/main/sample_csv_file.csv**\n",
        "\n",
        "2. Display the first 5 rows of the DataFrame.\n",
        "\n",
        "3. Display the last 5 rows of the DataFrame. \n",
        "\n",
        "4. Find the number of rows and columns.\n",
        "\n",
        "5. Check for the missing values in the DataFrame.\n",
        "\n",
        "6. Create a scatter plot and a line plot between:\n",
        "  \n",
        "  - `y` and `x1`\n",
        "  \n",
        "  - `y` and `x2`\n",
        "  \n",
        "  - `y` and `x3`\n",
        "  \n",
        "  - `y` and `x4`\n",
        "  \n",
        "  - `y` and `2 * x1 + 3 * x2 + 4 * x3 + 5 * x4`\n",
        "  \n",
        "  such that the `y` values are plotted on the horizontal axis and `x1, x2, x3, 4` values are plotted on the vertical axis."
      ]
    },
    {
      "cell_type": "markdown",
      "metadata": {
        "id": "4JHqbf0Jsqnu"
      },
      "source": [
        "---"
      ]
    },
    {
      "cell_type": "markdown",
      "metadata": {
        "id": "a0APEzMjsr59"
      },
      "source": [
        "#### 1. Create a DataFrame\n",
        "\n",
        "Import the required modules. Create a DataFrame for the dataset and store it in the `df` variable."
      ]
    },
    {
      "cell_type": "code",
      "metadata": {
        "id": "QYHQdmTUSKq0",
        "colab": {
          "base_uri": "https://localhost:8080/",
          "height": 206
        },
        "outputId": "02da8c9e-5c91-4f04-fe95-c552f2879711"
      },
      "source": [
        "#Create a DataFrame for the dataset and store it in the df variable.\n",
        "import pandas as pd\n",
        "df=pd.read_csv(\"/content/drive/MyDrive/LABJ/sample_csv_file.csv\")\n",
        "df.head()\n"
      ],
      "execution_count": null,
      "outputs": [
        {
          "output_type": "execute_result",
          "data": {
            "text/html": [
              "<div>\n",
              "<style scoped>\n",
              "    .dataframe tbody tr th:only-of-type {\n",
              "        vertical-align: middle;\n",
              "    }\n",
              "\n",
              "    .dataframe tbody tr th {\n",
              "        vertical-align: top;\n",
              "    }\n",
              "\n",
              "    .dataframe thead th {\n",
              "        text-align: right;\n",
              "    }\n",
              "</style>\n",
              "<table border=\"1\" class=\"dataframe\">\n",
              "  <thead>\n",
              "    <tr style=\"text-align: right;\">\n",
              "      <th></th>\n",
              "      <th>y</th>\n",
              "      <th>x1</th>\n",
              "      <th>x2</th>\n",
              "      <th>x3</th>\n",
              "      <th>x4</th>\n",
              "    </tr>\n",
              "  </thead>\n",
              "  <tbody>\n",
              "    <tr>\n",
              "      <th>0</th>\n",
              "      <td>1</td>\n",
              "      <td>1</td>\n",
              "      <td>1</td>\n",
              "      <td>0.000000</td>\n",
              "      <td>0.841471</td>\n",
              "    </tr>\n",
              "    <tr>\n",
              "      <th>1</th>\n",
              "      <td>2</td>\n",
              "      <td>2</td>\n",
              "      <td>4</td>\n",
              "      <td>0.693147</td>\n",
              "      <td>0.909297</td>\n",
              "    </tr>\n",
              "    <tr>\n",
              "      <th>2</th>\n",
              "      <td>3</td>\n",
              "      <td>3</td>\n",
              "      <td>9</td>\n",
              "      <td>1.098612</td>\n",
              "      <td>0.141120</td>\n",
              "    </tr>\n",
              "    <tr>\n",
              "      <th>3</th>\n",
              "      <td>4</td>\n",
              "      <td>4</td>\n",
              "      <td>16</td>\n",
              "      <td>1.386294</td>\n",
              "      <td>-0.756802</td>\n",
              "    </tr>\n",
              "    <tr>\n",
              "      <th>4</th>\n",
              "      <td>5</td>\n",
              "      <td>5</td>\n",
              "      <td>25</td>\n",
              "      <td>1.609438</td>\n",
              "      <td>-0.958924</td>\n",
              "    </tr>\n",
              "  </tbody>\n",
              "</table>\n",
              "</div>"
            ],
            "text/plain": [
              "   y  x1  x2        x3        x4\n",
              "0  1   1   1  0.000000  0.841471\n",
              "1  2   2   4  0.693147  0.909297\n",
              "2  3   3   9  1.098612  0.141120\n",
              "3  4   4  16  1.386294 -0.756802\n",
              "4  5   5  25  1.609438 -0.958924"
            ]
          },
          "metadata": {},
          "execution_count": 4
        }
      ]
    },
    {
      "cell_type": "markdown",
      "metadata": {
        "id": "YknhZf9ktBLZ"
      },
      "source": [
        "#### 2. Display The First 5 Rows\n",
        "\n",
        "Here you have to display the first five rows of the `df` DataFrame."
      ]
    },
    {
      "cell_type": "code",
      "metadata": {
        "id": "lLJ6ItnzRJgS",
        "colab": {
          "base_uri": "https://localhost:8080/",
          "height": 206
        },
        "outputId": "e70e84fa-274c-4f6a-c25a-c95ae3a4338d"
      },
      "source": [
        "# Display the first 5 rows using the 'head()' function\n",
        "df.head()"
      ],
      "execution_count": null,
      "outputs": [
        {
          "output_type": "execute_result",
          "data": {
            "text/html": [
              "<div>\n",
              "<style scoped>\n",
              "    .dataframe tbody tr th:only-of-type {\n",
              "        vertical-align: middle;\n",
              "    }\n",
              "\n",
              "    .dataframe tbody tr th {\n",
              "        vertical-align: top;\n",
              "    }\n",
              "\n",
              "    .dataframe thead th {\n",
              "        text-align: right;\n",
              "    }\n",
              "</style>\n",
              "<table border=\"1\" class=\"dataframe\">\n",
              "  <thead>\n",
              "    <tr style=\"text-align: right;\">\n",
              "      <th></th>\n",
              "      <th>y</th>\n",
              "      <th>x1</th>\n",
              "      <th>x2</th>\n",
              "      <th>x3</th>\n",
              "      <th>x4</th>\n",
              "    </tr>\n",
              "  </thead>\n",
              "  <tbody>\n",
              "    <tr>\n",
              "      <th>0</th>\n",
              "      <td>1</td>\n",
              "      <td>1</td>\n",
              "      <td>1</td>\n",
              "      <td>0.000000</td>\n",
              "      <td>0.841471</td>\n",
              "    </tr>\n",
              "    <tr>\n",
              "      <th>1</th>\n",
              "      <td>2</td>\n",
              "      <td>2</td>\n",
              "      <td>4</td>\n",
              "      <td>0.693147</td>\n",
              "      <td>0.909297</td>\n",
              "    </tr>\n",
              "    <tr>\n",
              "      <th>2</th>\n",
              "      <td>3</td>\n",
              "      <td>3</td>\n",
              "      <td>9</td>\n",
              "      <td>1.098612</td>\n",
              "      <td>0.141120</td>\n",
              "    </tr>\n",
              "    <tr>\n",
              "      <th>3</th>\n",
              "      <td>4</td>\n",
              "      <td>4</td>\n",
              "      <td>16</td>\n",
              "      <td>1.386294</td>\n",
              "      <td>-0.756802</td>\n",
              "    </tr>\n",
              "    <tr>\n",
              "      <th>4</th>\n",
              "      <td>5</td>\n",
              "      <td>5</td>\n",
              "      <td>25</td>\n",
              "      <td>1.609438</td>\n",
              "      <td>-0.958924</td>\n",
              "    </tr>\n",
              "  </tbody>\n",
              "</table>\n",
              "</div>"
            ],
            "text/plain": [
              "   y  x1  x2        x3        x4\n",
              "0  1   1   1  0.000000  0.841471\n",
              "1  2   2   4  0.693147  0.909297\n",
              "2  3   3   9  1.098612  0.141120\n",
              "3  4   4  16  1.386294 -0.756802\n",
              "4  5   5  25  1.609438 -0.958924"
            ]
          },
          "metadata": {},
          "execution_count": 5
        }
      ]
    },
    {
      "cell_type": "code",
      "metadata": {
        "colab": {
          "base_uri": "https://localhost:8080/",
          "height": 300
        },
        "id": "kWfo-Rqdd_jO",
        "outputId": "60d181e9-a19d-4636-f40a-37f79b41a6d6"
      },
      "source": [
        "df.head(8)"
      ],
      "execution_count": null,
      "outputs": [
        {
          "output_type": "execute_result",
          "data": {
            "text/html": [
              "<div>\n",
              "<style scoped>\n",
              "    .dataframe tbody tr th:only-of-type {\n",
              "        vertical-align: middle;\n",
              "    }\n",
              "\n",
              "    .dataframe tbody tr th {\n",
              "        vertical-align: top;\n",
              "    }\n",
              "\n",
              "    .dataframe thead th {\n",
              "        text-align: right;\n",
              "    }\n",
              "</style>\n",
              "<table border=\"1\" class=\"dataframe\">\n",
              "  <thead>\n",
              "    <tr style=\"text-align: right;\">\n",
              "      <th></th>\n",
              "      <th>y</th>\n",
              "      <th>x1</th>\n",
              "      <th>x2</th>\n",
              "      <th>x3</th>\n",
              "      <th>x4</th>\n",
              "    </tr>\n",
              "  </thead>\n",
              "  <tbody>\n",
              "    <tr>\n",
              "      <th>0</th>\n",
              "      <td>1</td>\n",
              "      <td>1</td>\n",
              "      <td>1</td>\n",
              "      <td>0.000000</td>\n",
              "      <td>0.841471</td>\n",
              "    </tr>\n",
              "    <tr>\n",
              "      <th>1</th>\n",
              "      <td>2</td>\n",
              "      <td>2</td>\n",
              "      <td>4</td>\n",
              "      <td>0.693147</td>\n",
              "      <td>0.909297</td>\n",
              "    </tr>\n",
              "    <tr>\n",
              "      <th>2</th>\n",
              "      <td>3</td>\n",
              "      <td>3</td>\n",
              "      <td>9</td>\n",
              "      <td>1.098612</td>\n",
              "      <td>0.141120</td>\n",
              "    </tr>\n",
              "    <tr>\n",
              "      <th>3</th>\n",
              "      <td>4</td>\n",
              "      <td>4</td>\n",
              "      <td>16</td>\n",
              "      <td>1.386294</td>\n",
              "      <td>-0.756802</td>\n",
              "    </tr>\n",
              "    <tr>\n",
              "      <th>4</th>\n",
              "      <td>5</td>\n",
              "      <td>5</td>\n",
              "      <td>25</td>\n",
              "      <td>1.609438</td>\n",
              "      <td>-0.958924</td>\n",
              "    </tr>\n",
              "    <tr>\n",
              "      <th>5</th>\n",
              "      <td>6</td>\n",
              "      <td>6</td>\n",
              "      <td>36</td>\n",
              "      <td>1.791759</td>\n",
              "      <td>-0.279415</td>\n",
              "    </tr>\n",
              "    <tr>\n",
              "      <th>6</th>\n",
              "      <td>7</td>\n",
              "      <td>7</td>\n",
              "      <td>49</td>\n",
              "      <td>1.945910</td>\n",
              "      <td>0.656987</td>\n",
              "    </tr>\n",
              "    <tr>\n",
              "      <th>7</th>\n",
              "      <td>8</td>\n",
              "      <td>8</td>\n",
              "      <td>64</td>\n",
              "      <td>2.079442</td>\n",
              "      <td>0.989358</td>\n",
              "    </tr>\n",
              "  </tbody>\n",
              "</table>\n",
              "</div>"
            ],
            "text/plain": [
              "   y  x1  x2        x3        x4\n",
              "0  1   1   1  0.000000  0.841471\n",
              "1  2   2   4  0.693147  0.909297\n",
              "2  3   3   9  1.098612  0.141120\n",
              "3  4   4  16  1.386294 -0.756802\n",
              "4  5   5  25  1.609438 -0.958924\n",
              "5  6   6  36  1.791759 -0.279415\n",
              "6  7   7  49  1.945910  0.656987\n",
              "7  8   8  64  2.079442  0.989358"
            ]
          },
          "metadata": {},
          "execution_count": 6
        }
      ]
    },
    {
      "cell_type": "markdown",
      "metadata": {
        "id": "77w83-ortGY8"
      },
      "source": [
        "---"
      ]
    },
    {
      "cell_type": "markdown",
      "metadata": {
        "id": "836Zdss_tOPi"
      },
      "source": [
        "#### 3. Display The Last 5 Rows\n",
        "\n",
        "Here you have to display the last five rows of the `df` DataFrame."
      ]
    },
    {
      "cell_type": "code",
      "metadata": {
        "id": "__DRgc_pPJau",
        "colab": {
          "base_uri": "https://localhost:8080/",
          "height": 206
        },
        "outputId": "de20943e-f60f-49e0-ac2a-2884db07b9d7"
      },
      "source": [
        "# Display the last 5 rows using the 'tail()' function\n",
        "df.tail()"
      ],
      "execution_count": null,
      "outputs": [
        {
          "output_type": "execute_result",
          "data": {
            "text/html": [
              "<div>\n",
              "<style scoped>\n",
              "    .dataframe tbody tr th:only-of-type {\n",
              "        vertical-align: middle;\n",
              "    }\n",
              "\n",
              "    .dataframe tbody tr th {\n",
              "        vertical-align: top;\n",
              "    }\n",
              "\n",
              "    .dataframe thead th {\n",
              "        text-align: right;\n",
              "    }\n",
              "</style>\n",
              "<table border=\"1\" class=\"dataframe\">\n",
              "  <thead>\n",
              "    <tr style=\"text-align: right;\">\n",
              "      <th></th>\n",
              "      <th>y</th>\n",
              "      <th>x1</th>\n",
              "      <th>x2</th>\n",
              "      <th>x3</th>\n",
              "      <th>x4</th>\n",
              "    </tr>\n",
              "  </thead>\n",
              "  <tbody>\n",
              "    <tr>\n",
              "      <th>494</th>\n",
              "      <td>495</td>\n",
              "      <td>495</td>\n",
              "      <td>245025</td>\n",
              "      <td>6.204558</td>\n",
              "      <td>-0.980234</td>\n",
              "    </tr>\n",
              "    <tr>\n",
              "      <th>495</th>\n",
              "      <td>496</td>\n",
              "      <td>496</td>\n",
              "      <td>246016</td>\n",
              "      <td>6.206576</td>\n",
              "      <td>-0.363143</td>\n",
              "    </tr>\n",
              "    <tr>\n",
              "      <th>496</th>\n",
              "      <td>497</td>\n",
              "      <td>497</td>\n",
              "      <td>247009</td>\n",
              "      <td>6.208590</td>\n",
              "      <td>0.587819</td>\n",
              "    </tr>\n",
              "    <tr>\n",
              "      <th>497</th>\n",
              "      <td>498</td>\n",
              "      <td>498</td>\n",
              "      <td>248004</td>\n",
              "      <td>6.210600</td>\n",
              "      <td>0.998344</td>\n",
              "    </tr>\n",
              "    <tr>\n",
              "      <th>498</th>\n",
              "      <td>499</td>\n",
              "      <td>499</td>\n",
              "      <td>249001</td>\n",
              "      <td>6.212606</td>\n",
              "      <td>0.490995</td>\n",
              "    </tr>\n",
              "  </tbody>\n",
              "</table>\n",
              "</div>"
            ],
            "text/plain": [
              "       y   x1      x2        x3        x4\n",
              "494  495  495  245025  6.204558 -0.980234\n",
              "495  496  496  246016  6.206576 -0.363143\n",
              "496  497  497  247009  6.208590  0.587819\n",
              "497  498  498  248004  6.210600  0.998344\n",
              "498  499  499  249001  6.212606  0.490995"
            ]
          },
          "metadata": {},
          "execution_count": 7
        }
      ]
    },
    {
      "cell_type": "code",
      "metadata": {
        "colab": {
          "base_uri": "https://localhost:8080/",
          "height": 331
        },
        "id": "9cQl3GU0eOBV",
        "outputId": "797ff2cc-8626-4209-eb0c-0e98445391e0"
      },
      "source": [
        "df.tail(9)"
      ],
      "execution_count": null,
      "outputs": [
        {
          "output_type": "execute_result",
          "data": {
            "text/html": [
              "<div>\n",
              "<style scoped>\n",
              "    .dataframe tbody tr th:only-of-type {\n",
              "        vertical-align: middle;\n",
              "    }\n",
              "\n",
              "    .dataframe tbody tr th {\n",
              "        vertical-align: top;\n",
              "    }\n",
              "\n",
              "    .dataframe thead th {\n",
              "        text-align: right;\n",
              "    }\n",
              "</style>\n",
              "<table border=\"1\" class=\"dataframe\">\n",
              "  <thead>\n",
              "    <tr style=\"text-align: right;\">\n",
              "      <th></th>\n",
              "      <th>y</th>\n",
              "      <th>x1</th>\n",
              "      <th>x2</th>\n",
              "      <th>x3</th>\n",
              "      <th>x4</th>\n",
              "    </tr>\n",
              "  </thead>\n",
              "  <tbody>\n",
              "    <tr>\n",
              "      <th>490</th>\n",
              "      <td>491</td>\n",
              "      <td>491</td>\n",
              "      <td>241081</td>\n",
              "      <td>6.196444</td>\n",
              "      <td>0.790452</td>\n",
              "    </tr>\n",
              "    <tr>\n",
              "      <th>491</th>\n",
              "      <td>492</td>\n",
              "      <td>492</td>\n",
              "      <td>242064</td>\n",
              "      <td>6.198479</td>\n",
              "      <td>0.942504</td>\n",
              "    </tr>\n",
              "    <tr>\n",
              "      <th>492</th>\n",
              "      <td>493</td>\n",
              "      <td>493</td>\n",
              "      <td>243049</td>\n",
              "      <td>6.200509</td>\n",
              "      <td>0.228023</td>\n",
              "    </tr>\n",
              "    <tr>\n",
              "      <th>493</th>\n",
              "      <td>494</td>\n",
              "      <td>494</td>\n",
              "      <td>244036</td>\n",
              "      <td>6.202536</td>\n",
              "      <td>-0.696102</td>\n",
              "    </tr>\n",
              "    <tr>\n",
              "      <th>494</th>\n",
              "      <td>495</td>\n",
              "      <td>495</td>\n",
              "      <td>245025</td>\n",
              "      <td>6.204558</td>\n",
              "      <td>-0.980234</td>\n",
              "    </tr>\n",
              "    <tr>\n",
              "      <th>495</th>\n",
              "      <td>496</td>\n",
              "      <td>496</td>\n",
              "      <td>246016</td>\n",
              "      <td>6.206576</td>\n",
              "      <td>-0.363143</td>\n",
              "    </tr>\n",
              "    <tr>\n",
              "      <th>496</th>\n",
              "      <td>497</td>\n",
              "      <td>497</td>\n",
              "      <td>247009</td>\n",
              "      <td>6.208590</td>\n",
              "      <td>0.587819</td>\n",
              "    </tr>\n",
              "    <tr>\n",
              "      <th>497</th>\n",
              "      <td>498</td>\n",
              "      <td>498</td>\n",
              "      <td>248004</td>\n",
              "      <td>6.210600</td>\n",
              "      <td>0.998344</td>\n",
              "    </tr>\n",
              "    <tr>\n",
              "      <th>498</th>\n",
              "      <td>499</td>\n",
              "      <td>499</td>\n",
              "      <td>249001</td>\n",
              "      <td>6.212606</td>\n",
              "      <td>0.490995</td>\n",
              "    </tr>\n",
              "  </tbody>\n",
              "</table>\n",
              "</div>"
            ],
            "text/plain": [
              "       y   x1      x2        x3        x4\n",
              "490  491  491  241081  6.196444  0.790452\n",
              "491  492  492  242064  6.198479  0.942504\n",
              "492  493  493  243049  6.200509  0.228023\n",
              "493  494  494  244036  6.202536 -0.696102\n",
              "494  495  495  245025  6.204558 -0.980234\n",
              "495  496  496  246016  6.206576 -0.363143\n",
              "496  497  497  247009  6.208590  0.587819\n",
              "497  498  498  248004  6.210600  0.998344\n",
              "498  499  499  249001  6.212606  0.490995"
            ]
          },
          "metadata": {},
          "execution_count": 9
        }
      ]
    },
    {
      "cell_type": "markdown",
      "metadata": {
        "id": "hbrf-qnYtXHL"
      },
      "source": [
        "---"
      ]
    },
    {
      "cell_type": "markdown",
      "metadata": {
        "id": "5Vc16dIwtYEC"
      },
      "source": [
        "#### 4. Display Number Of Rows & Columns\n",
        "\n",
        "Now, display the number of rows and columns that are present in the `df` DataFrame."
      ]
    },
    {
      "cell_type": "code",
      "metadata": {
        "id": "BchpHm6DQ22n",
        "colab": {
          "base_uri": "https://localhost:8080/"
        },
        "outputId": "18d8742e-f170-486b-e2fa-46b67bfd2ac5"
      },
      "source": [
        "# Display the number of rows and columns using the 'shape' keyword\n",
        "df.shape"
      ],
      "execution_count": null,
      "outputs": [
        {
          "output_type": "execute_result",
          "data": {
            "text/plain": [
              "(499, 5)"
            ]
          },
          "metadata": {},
          "execution_count": 10
        }
      ]
    },
    {
      "cell_type": "code",
      "metadata": {
        "colab": {
          "base_uri": "https://localhost:8080/"
        },
        "id": "2eXGWtZPetq0",
        "outputId": "a4c484d9-3937-4738-d270-f92fac8472b3"
      },
      "source": [
        "df.shape[0]"
      ],
      "execution_count": null,
      "outputs": [
        {
          "output_type": "execute_result",
          "data": {
            "text/plain": [
              "499"
            ]
          },
          "metadata": {},
          "execution_count": 11
        }
      ]
    },
    {
      "cell_type": "code",
      "metadata": {
        "colab": {
          "base_uri": "https://localhost:8080/"
        },
        "id": "8mdMIg6WezqD",
        "outputId": "bf1ff6be-586e-406b-b15a-68249e44dd79"
      },
      "source": [
        "df.shape[1]"
      ],
      "execution_count": null,
      "outputs": [
        {
          "output_type": "execute_result",
          "data": {
            "text/plain": [
              "5"
            ]
          },
          "metadata": {},
          "execution_count": 12
        }
      ]
    },
    {
      "cell_type": "markdown",
      "metadata": {
        "id": "t6l5BJ0otgRO"
      },
      "source": [
        "---"
      ]
    },
    {
      "cell_type": "markdown",
      "metadata": {
        "id": "noovqesBthVM"
      },
      "source": [
        "#### 5. Check For The Missing Values\n",
        "\n",
        "Check whether the `df` DataFrame contains the missing values."
      ]
    },
    {
      "cell_type": "code",
      "metadata": {
        "id": "fcCJ0AzhQ4T0",
        "colab": {
          "base_uri": "https://localhost:8080/",
          "height": 424
        },
        "outputId": "ab4b07a2-9aac-4893-9cf4-1a4400486a8b"
      },
      "source": [
        "# Check for the missing values using the 'isnull()' function.\n",
        "df.isnull()"
      ],
      "execution_count": null,
      "outputs": [
        {
          "output_type": "execute_result",
          "data": {
            "text/html": [
              "<div>\n",
              "<style scoped>\n",
              "    .dataframe tbody tr th:only-of-type {\n",
              "        vertical-align: middle;\n",
              "    }\n",
              "\n",
              "    .dataframe tbody tr th {\n",
              "        vertical-align: top;\n",
              "    }\n",
              "\n",
              "    .dataframe thead th {\n",
              "        text-align: right;\n",
              "    }\n",
              "</style>\n",
              "<table border=\"1\" class=\"dataframe\">\n",
              "  <thead>\n",
              "    <tr style=\"text-align: right;\">\n",
              "      <th></th>\n",
              "      <th>y</th>\n",
              "      <th>x1</th>\n",
              "      <th>x2</th>\n",
              "      <th>x3</th>\n",
              "      <th>x4</th>\n",
              "    </tr>\n",
              "  </thead>\n",
              "  <tbody>\n",
              "    <tr>\n",
              "      <th>0</th>\n",
              "      <td>False</td>\n",
              "      <td>False</td>\n",
              "      <td>False</td>\n",
              "      <td>False</td>\n",
              "      <td>False</td>\n",
              "    </tr>\n",
              "    <tr>\n",
              "      <th>1</th>\n",
              "      <td>False</td>\n",
              "      <td>False</td>\n",
              "      <td>False</td>\n",
              "      <td>False</td>\n",
              "      <td>False</td>\n",
              "    </tr>\n",
              "    <tr>\n",
              "      <th>2</th>\n",
              "      <td>False</td>\n",
              "      <td>False</td>\n",
              "      <td>False</td>\n",
              "      <td>False</td>\n",
              "      <td>False</td>\n",
              "    </tr>\n",
              "    <tr>\n",
              "      <th>3</th>\n",
              "      <td>False</td>\n",
              "      <td>False</td>\n",
              "      <td>False</td>\n",
              "      <td>False</td>\n",
              "      <td>False</td>\n",
              "    </tr>\n",
              "    <tr>\n",
              "      <th>4</th>\n",
              "      <td>False</td>\n",
              "      <td>False</td>\n",
              "      <td>False</td>\n",
              "      <td>False</td>\n",
              "      <td>False</td>\n",
              "    </tr>\n",
              "    <tr>\n",
              "      <th>...</th>\n",
              "      <td>...</td>\n",
              "      <td>...</td>\n",
              "      <td>...</td>\n",
              "      <td>...</td>\n",
              "      <td>...</td>\n",
              "    </tr>\n",
              "    <tr>\n",
              "      <th>494</th>\n",
              "      <td>False</td>\n",
              "      <td>False</td>\n",
              "      <td>False</td>\n",
              "      <td>False</td>\n",
              "      <td>False</td>\n",
              "    </tr>\n",
              "    <tr>\n",
              "      <th>495</th>\n",
              "      <td>False</td>\n",
              "      <td>False</td>\n",
              "      <td>False</td>\n",
              "      <td>False</td>\n",
              "      <td>False</td>\n",
              "    </tr>\n",
              "    <tr>\n",
              "      <th>496</th>\n",
              "      <td>False</td>\n",
              "      <td>False</td>\n",
              "      <td>False</td>\n",
              "      <td>False</td>\n",
              "      <td>False</td>\n",
              "    </tr>\n",
              "    <tr>\n",
              "      <th>497</th>\n",
              "      <td>False</td>\n",
              "      <td>False</td>\n",
              "      <td>False</td>\n",
              "      <td>False</td>\n",
              "      <td>False</td>\n",
              "    </tr>\n",
              "    <tr>\n",
              "      <th>498</th>\n",
              "      <td>False</td>\n",
              "      <td>False</td>\n",
              "      <td>False</td>\n",
              "      <td>False</td>\n",
              "      <td>False</td>\n",
              "    </tr>\n",
              "  </tbody>\n",
              "</table>\n",
              "<p>499 rows × 5 columns</p>\n",
              "</div>"
            ],
            "text/plain": [
              "         y     x1     x2     x3     x4\n",
              "0    False  False  False  False  False\n",
              "1    False  False  False  False  False\n",
              "2    False  False  False  False  False\n",
              "3    False  False  False  False  False\n",
              "4    False  False  False  False  False\n",
              "..     ...    ...    ...    ...    ...\n",
              "494  False  False  False  False  False\n",
              "495  False  False  False  False  False\n",
              "496  False  False  False  False  False\n",
              "497  False  False  False  False  False\n",
              "498  False  False  False  False  False\n",
              "\n",
              "[499 rows x 5 columns]"
            ]
          },
          "metadata": {},
          "execution_count": 13
        }
      ]
    },
    {
      "cell_type": "markdown",
      "metadata": {
        "id": "HJCwQiJAEEWF"
      },
      "source": [
        "**Hint**: Use the `sum()` function on top of the `isnull()` to find the total number of `True` values in each column."
      ]
    },
    {
      "cell_type": "code",
      "metadata": {
        "colab": {
          "base_uri": "https://localhost:8080/"
        },
        "id": "ou4R0tGNe8Vr",
        "outputId": "0a30ea12-d21b-4f7e-f1da-cb7a3b8c3bd8"
      },
      "source": [
        "df.isnull().sum()"
      ],
      "execution_count": null,
      "outputs": [
        {
          "output_type": "execute_result",
          "data": {
            "text/plain": [
              "y     0\n",
              "x1    0\n",
              "x2    0\n",
              "x3    0\n",
              "x4    0\n",
              "dtype: int64"
            ]
          },
          "metadata": {},
          "execution_count": 15
        }
      ]
    },
    {
      "cell_type": "markdown",
      "metadata": {
        "id": "3RiKE8vUz9IX"
      },
      "source": [
        "---"
      ]
    },
    {
      "cell_type": "markdown",
      "metadata": {
        "id": "5fKVN1TYz92o"
      },
      "source": [
        "#### 6. Scatter & Line Plots\n",
        "\n",
        "Now you have to create the scatter plots and line plots between the following columns:\n",
        "\n",
        "1. `y` and `x1`\n",
        "\n",
        "2. `y` and `x2`\n",
        "\n",
        "3. `y` and `x3`\n",
        "\n",
        "4. `y` and `x4`\n",
        "\n",
        "5. `y1` and `2 * x1 + 3 * x2 + 4 * x3 + 5 * x4`\n"
      ]
    },
    {
      "cell_type": "code",
      "metadata": {
        "id": "INB2sNXkb7zA",
        "colab": {
          "base_uri": "https://localhost:8080/",
          "height": 374
        },
        "outputId": "9749b425-ec87-4d5f-dcea-3ed00d83bf53"
      },
      "source": [
        "# Scatter plot between y and x1.\n",
        "# Pass 'df['y']' and 'df['x1']' inside the 'scatter()' function of the 'matplotlib.pyplot' module\n",
        "import matplotlib.pyplot as plt\n",
        "plt.figure(figsize=(10, 6))\n",
        "plt.scatter(df['y'], df['x1'])\n",
        "plt.show()"
      ],
      "execution_count": null,
      "outputs": [
        {
          "output_type": "display_data",
          "data": {
            "image/png": "[encoded data removed]",
            "text/plain": [
              "<Figure size 720x432 with 1 Axes>"
            ]
          },
          "metadata": {
            "needs_background": "light"
          }
        }
      ]
    },
    {
      "cell_type": "code",
      "metadata": {
        "id": "0-f6QGyQcCqp",
        "colab": {
          "base_uri": "https://localhost:8080/",
          "height": 374
        },
        "outputId": "4cb93cf3-fb2c-4141-95fb-69001d92247e"
      },
      "source": [
        "# Line plot between y and x1.\n",
        "# Pass 'df['y']' and 'df['x1']' inside the 'plot()' function of the 'matplotlib.pyplot' module\n",
        "plt.figure(figsize=(10, 6))\n",
        "plt.plot(df['y'], df['x1'])\n",
        "plt.show()"
      ],
      "execution_count": null,
      "outputs": [
        {
          "output_type": "display_data",
          "data": {
            "image/png": "[encoded data removed]",
            "text/plain": [
              "<Figure size 720x432 with 1 Axes>"
            ]
          },
          "metadata": {
            "needs_background": "light"
          }
        }
      ]
    },
    {
      "cell_type": "code",
      "metadata": {
        "id": "8QbZWktDcFxc",
        "colab": {
          "base_uri": "https://localhost:8080/",
          "height": 374
        },
        "outputId": "ca593e95-cc90-46fa-ed3e-da72794ee685"
      },
      "source": [
        "# Scatter plot between y and x2.\n",
        "plt.figure(figsize=(10, 6))\n",
        "plt.scatter(df['y'], df['x2'])\n",
        "plt.show()\n"
      ],
      "execution_count": null,
      "outputs": [
        {
          "output_type": "display_data",
          "data": {
            "image/png": "[encoded data removed]",
            "text/plain": [
              "<Figure size 720x432 with 1 Axes>"
            ]
          },
          "metadata": {
            "needs_background": "light"
          }
        }
      ]
    },
    {
      "cell_type": "code",
      "metadata": {
        "id": "K0Z7s3nycIU2",
        "colab": {
          "base_uri": "https://localhost:8080/",
          "height": 374
        },
        "outputId": "a6d47de9-0ae3-4184-ca49-0d93f0192630"
      },
      "source": [
        "# Line plot between y and x2.\n",
        "plt.figure(figsize=(10, 6))\n",
        "plt.plot(df['y'], df['x2'])\n",
        "plt.show()"
      ],
      "execution_count": null,
      "outputs": [
        {
          "output_type": "display_data",
          "data": {
            "image/png": "[encoded data removed]",
            "text/plain": [
              "<Figure size 720x432 with 1 Axes>"
            ]
          },
          "metadata": {
            "needs_background": "light"
          }
        }
      ]
    },
    {
      "cell_type": "code",
      "metadata": {
        "id": "djwL88fNjNBQ",
        "colab": {
          "base_uri": "https://localhost:8080/",
          "height": 374
        },
        "outputId": "60ca63f5-cb01-4b2b-c7d2-98ad55009e17"
      },
      "source": [
        "# Scatter plot between y and x3.\n",
        "plt.figure(figsize=(10, 6))\n",
        "plt.scatter(df['y'], df['x3'])\n",
        "plt.show()"
      ],
      "execution_count": null,
      "outputs": [
        {
          "output_type": "display_data",
          "data": {
            "image/png": "[encoded data removed]",
            "text/plain": [
              "<Figure size 720x432 with 1 Axes>"
            ]
          },
          "metadata": {
            "needs_background": "light"
          }
        }
      ]
    },
    {
      "cell_type": "code",
      "metadata": {
        "id": "rQ_Kcw7ikwpt",
        "colab": {
          "base_uri": "https://localhost:8080/",
          "height": 374
        },
        "outputId": "41219dd5-a7c1-423f-8439-1d2074db63da"
      },
      "source": [
        "# Line plot between y and x3.\n",
        "plt.figure(figsize=(10, 6))\n",
        "plt.plot(df['y'], df['x3'],linestyle='--',color=\"red\")\n",
        "plt.show()"
      ],
      "execution_count": null,
      "outputs": [
        {
          "output_type": "display_data",
          "data": {
            "image/png": "[encoded data removed]",
            "text/plain": [
              "<Figure size 720x432 with 1 Axes>"
            ]
          },
          "metadata": {
            "needs_background": "light"
          }
        }
      ]
    },
    {
      "cell_type": "code",
      "metadata": {
        "id": "oFY-C9pG1ofU",
        "colab": {
          "base_uri": "https://localhost:8080/",
          "height": 374
        },
        "outputId": "d012f3db-9839-452b-b458-45aa08145506"
      },
      "source": [
        "# Scatter plot between y and x4.\n",
        "plt.figure(figsize=(10, 6))\n",
        "plt.scatter(df['y'], df['x4'],color=\"purple\")\n",
        "plt.show()"
      ],
      "execution_count": null,
      "outputs": [
        {
          "output_type": "display_data",
          "data": {
            "image/png": "[encoded data removed]",
            "text/plain": [
              "<Figure size 720x432 with 1 Axes>"
            ]
          },
          "metadata": {
            "needs_background": "light"
          }
        }
      ]
    },
    {
      "cell_type": "code",
      "metadata": {
        "id": "V7OJ1Cam1sMS",
        "colab": {
          "base_uri": "https://localhost:8080/",
          "height": 374
        },
        "outputId": "fa5f7f19-6ab6-4d72-ebe6-e78fda6c6de9"
      },
      "source": [
        "# Line plot between y and x4.\n",
        "plt.figure(figsize=(10, 6))\n",
        "plt.plot(df['y'], df['x4'],color=\"blue\")\n",
        "plt.show()"
      ],
      "execution_count": null,
      "outputs": [
        {
          "output_type": "display_data",
          "data": {
            "image/png": "[encoded data removed]",
            "text/plain": [
              "<Figure size 720x432 with 1 Axes>"
            ]
          },
          "metadata": {
            "needs_background": "light"
          }
        }
      ]
    },
    {
      "cell_type": "code",
      "metadata": {
        "id": "NF6HV0ij1yPT",
        "colab": {
          "base_uri": "https://localhost:8080/",
          "height": 374
        },
        "outputId": "69dc3dc3-47ab-47bd-844a-38e32d4be335"
      },
      "source": [
        "# Scatter plot between y and 2 * x1 + 3 * x2 + 4 * x3 + 5 * x4.\n",
        "plt.figure(figsize=(10, 6))\n",
        "plt.scatter(df['y'], 2*df['x1']+3*df['x2']+4*df['x3']+5*df['x4'])\n",
        "plt.show()"
      ],
      "execution_count": null,
      "outputs": [
        {
          "output_type": "display_data",
          "data": {
            "image/png": "[encoded data removed]",
            "text/plain": [
              "<Figure size 720x432 with 1 Axes>"
            ]
          },
          "metadata": {
            "needs_background": "light"
          }
        }
      ]
    },
    {
      "cell_type": "code",
      "metadata": {
        "id": "qcezxtHf2Qe3",
        "colab": {
          "base_uri": "https://localhost:8080/",
          "height": 374
        },
        "outputId": "399bae54-cdab-4493-d1df-862992424f7c"
      },
      "source": [
        "# Line plot between y and 2 * x1 + 3 * x2 + 4 * x3 + 5 * x4.\n",
        "plt.figure(figsize=(10, 6))\n",
        "plt.plot(df['y'], 2*df['x1']+3*df['x2']+4*df['x3']+5*df['x4'])\n",
        "plt.show()"
      ],
      "execution_count": null,
      "outputs": [
        {
          "output_type": "display_data",
          "data": {
            "image/png": "[encoded data removed]",
            "text/plain": [
              "<Figure size 720x432 with 1 Axes>"
            ]
          },
          "metadata": {
            "needs_background": "light"
          }
        }
      ]
    }
  ]
}